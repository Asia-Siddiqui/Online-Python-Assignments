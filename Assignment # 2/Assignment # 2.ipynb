{
 "cells": [
  {
   "cell_type": "code",
   "execution_count": 5,
   "id": "6821abe8",
   "metadata": {},
   "outputs": [
    {
     "name": "stdout",
     "output_type": "stream",
     "text": [
      "total_marks: 300\n",
      "percentage: 91.33333333333333\n",
      "Grade A+\n"
     ]
    }
   ],
   "source": [
    "# Assignment # 2 Marksheet\n",
    "english = 89            #1. 3 Different variable\n",
    "islamiyat = 90\n",
    "math = 95\n",
    "#2. Total Marks\n",
    "obtain_marks = [ 89, 90, 95]\n",
    "total_marks = 300\n",
    "print(\"total_marks:\", total_marks)\n",
    "#3. calculate percentage\n",
    "percentage = (sum(obtain_marks)/total_marks)*100\n",
    "print(\"percentage:\",percentage)\n",
    "#4. Conditional Statment\n",
    "percentage = 91\n",
    "if percentage < 100 and  percentage > 80:\n",
    "    print(\"Grade A+\")\n",
    "elif percentage <= 80 and  percentage > 70:\n",
    "    print(\"Grade A\")\n",
    "elif percentage <= 70 and  percentage > 60:\n",
    "    print(\"Grade B\")\n",
    "elif percentage <= 60 and  percentage > 50:\n",
    "    print(\"Grade C\")\n",
    "elif percentage <= 50 and  percentage > 40:\n",
    "    print(\"Grade D\")\n",
    "elif percentage <= 40 and  percentage > 33:\n",
    "    print(\"Grade E\")\n",
    "elif percentage <= 33:\n",
    "    print(\"Grade F\")  \n",
    "else:\n",
    "    print(\"You did not enter the appropriate percentage\")"
   ]
  },
  {
   "cell_type": "code",
   "execution_count": null,
   "id": "c37ede0f",
   "metadata": {},
   "outputs": [],
   "source": []
  },
  {
   "cell_type": "code",
   "execution_count": null,
   "id": "d90ba2ef",
   "metadata": {},
   "outputs": [],
   "source": []
  }
 ],
 "metadata": {
  "celltoolbar": "Raw Cell Format",
  "kernelspec": {
   "display_name": "Python 3",
   "language": "python",
   "name": "python3"
  },
  "language_info": {
   "codemirror_mode": {
    "name": "ipython",
    "version": 3
   },
   "file_extension": ".py",
   "mimetype": "text/x-python",
   "name": "python",
   "nbconvert_exporter": "python",
   "pygments_lexer": "ipython3",
   "version": "3.8.8"
  }
 },
 "nbformat": 4,
 "nbformat_minor": 5
}
