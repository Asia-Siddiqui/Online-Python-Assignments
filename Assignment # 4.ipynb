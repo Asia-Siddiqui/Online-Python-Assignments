{
 "cells": [
  {
   "cell_type": "markdown",
   "id": "ff26c8a0",
   "metadata": {},
   "source": [
    "#                                      Python Programming Language\n",
    "                                            Assignment No 4"
   ]
  },
  {
   "cell_type": "code",
   "execution_count": 1,
   "id": "11b63e09",
   "metadata": {},
   "outputs": [
    {
     "name": "stdout",
     "output_type": "stream",
     "text": [
      "1 Addition\n",
      "2 Subtraction\n",
      "3 Multiplication\n",
      "4 Division\n",
      "Enter Q for power off\n",
      "Enter choice: 1\n",
      "Enter num1: 12\n",
      "Enter num2: 12\n",
      "12.0 + 12.0 = 24.0\n",
      "1 Addition\n",
      "2 Subtraction\n",
      "3 Multiplication\n",
      "4 Division\n",
      "Enter Q for power off\n",
      "Enter choice: 2\n",
      "Enter num1: 18\n",
      "Enter num2: 6\n",
      "18.0 - 6.0 = 12.0\n",
      "1 Addition\n",
      "2 Subtraction\n",
      "3 Multiplication\n",
      "4 Division\n",
      "Enter Q for power off\n",
      "Enter choice: 3\n",
      "Enter num1: 4\n",
      "Enter num2: 4\n",
      "4.0 * 4.0 = 16.0\n",
      "1 Addition\n",
      "2 Subtraction\n",
      "3 Multiplication\n",
      "4 Division\n",
      "Enter Q for power off\n",
      "Enter choice: 4\n",
      "Enter num1: 20\n",
      "Enter num2: 5\n",
      "20.0 / 5.0 = 4.0\n",
      "1 Addition\n",
      "2 Subtraction\n",
      "3 Multiplication\n",
      "4 Division\n",
      "Enter Q for power off\n",
      "Enter choice: Q\n"
     ]
    }
   ],
   "source": [
    "# Q 1. Make a calculator using python with addition, subtraction, multiplication, division and power.\n",
    "\n",
    "while True:\n",
    "    print(\"1 Addition\")\n",
    "    print(\"2 Subtraction\")\n",
    "    print(\"3 Multiplication\")\n",
    "    print(\"4 Division\")\n",
    "    print(\"Enter Q for power off\")\n",
    "    \n",
    "    choice = input(\"Enter choice: \")\n",
    "    if choice == \"Q\":\n",
    "        break\n",
    "    num1 = float(input(\"Enter num1: \"))\n",
    "    num2 = float(input(\"Enter num2: \"))\n",
    "    if choice == \"1\":\n",
    "        print(num1, \"+\", num2, \"=\", (num1+num2))\n",
    "    elif choice == \"2\":\n",
    "        print(num1, \"-\",num2, \"=\", (num1-num2))\n",
    "    elif choice == \"3\":\n",
    "        print(num1, \"*\", num2, \"=\", (num1*num2))\n",
    "    elif choice == \"4\":\n",
    "        if num2 == 0.0:\n",
    "            print(\"Divisible by 0 error\")\n",
    "        else:\n",
    "            print(num1, \"/\", num2, \"=\", (num1/num2))\n",
    "    else:\n",
    "        print(\"Not recognize nmber\")"
   ]
  },
  {
   "cell_type": "code",
   "execution_count": 2,
   "id": "bccc69b1",
   "metadata": {},
   "outputs": [
    {
     "name": "stdout",
     "output_type": "stream",
     "text": [
      "numeric value existed\n"
     ]
    }
   ],
   "source": [
    "# Q No 2. Write a programm to check if there is any numeric valuein lising for loop.\n",
    "\n",
    "list1 = [\"str\", 123, float, True]\n",
    "  \n",
    "numeric_value = 123\n",
    "for n in list1:\n",
    "    if numeric_value == n:\n",
    "        print(\"numeric value existed\")"
   ]
  },
  {
   "cell_type": "code",
   "execution_count": 3,
   "id": "8d652740",
   "metadata": {},
   "outputs": [
    {
     "name": "stdout",
     "output_type": "stream",
     "text": [
      "{'first name': 'Asia', 'last name': 'siddiqui', 'Qualification': 'B.Com'}\n",
      "{'first name': 'Asia', 'last name': 'siddiqui', 'Qualification': 'B.Com', 'Hobby': 'Book Reading'}\n"
     ]
    }
   ],
   "source": [
    "# Q No 3. write a python script to add a key to a dictionary.\n",
    "\n",
    "d = {\"first name\": \"Asia\", \"last name\": \"siddiqui\", \"Qualification\": \"B.Com\"}\n",
    "print(d)\n",
    "d[\"Hobby\"] = \"Book Reading\"\n",
    "print(d)"
   ]
  },
  {
   "cell_type": "code",
   "execution_count": 4,
   "id": "13aa7a10",
   "metadata": {},
   "outputs": [
    {
     "name": "stdout",
     "output_type": "stream",
     "text": [
      "175\n"
     ]
    }
   ],
   "source": [
    "# Q No 4. Write a python programm to sum all the numeric items in a dictionary.\n",
    "\n",
    "dict1 = {\"Books\": 100, \"copys\": 50, \"pen\": 10, \"other stationary\": 15 }\n",
    "print(sum(dict1.values()))"
   ]
  },
  {
   "cell_type": "code",
   "execution_count": 5,
   "id": "c9e5cfff",
   "metadata": {},
   "outputs": [
    {
     "name": "stdout",
     "output_type": "stream",
     "text": [
      "2 3 4 5 "
     ]
    }
   ],
   "source": [
    "# Q No 5. Write a programm to identify duplicate values from list.\n",
    "\n",
    "num=[1,2,3,4,5,2,3,4,7,9,5]\n",
    "l1=[]\n",
    "for c in num:\n",
    "    if c not in l1:\n",
    "        l1.append(c)\n",
    "    else:\n",
    "        print(c,end=' ')"
   ]
  },
  {
   "cell_type": "code",
   "execution_count": 6,
   "id": "e3f1dcd9",
   "metadata": {},
   "outputs": [
    {
     "name": "stdout",
     "output_type": "stream",
     "text": [
      "Key is present in the dictionary\n",
      "Key is not present in the dictionary\n"
     ]
    }
   ],
   "source": [
    "# Q No 6. Write a python script to check if a given key already exists in a dictionary.\n",
    "\n",
    "g = {1: 10, 2: 20, 3: 30, 4: 40, 5: 50, 6: 60}\n",
    "def is_key_present(z):\n",
    "    if z in g:\n",
    "        print('Key is present in the dictionary')\n",
    "    else:\n",
    "        print('Key is not present in the dictionary')\n",
    "is_key_present(5)\n",
    "is_key_present(9)"
   ]
  },
  {
   "cell_type": "code",
   "execution_count": null,
   "id": "aabcb78a",
   "metadata": {},
   "outputs": [],
   "source": []
  }
 ],
 "metadata": {
  "kernelspec": {
   "display_name": "Python 3",
   "language": "python",
   "name": "python3"
  },
  "language_info": {
   "codemirror_mode": {
    "name": "ipython",
    "version": 3
   },
   "file_extension": ".py",
   "mimetype": "text/x-python",
   "name": "python",
   "nbconvert_exporter": "python",
   "pygments_lexer": "ipython3",
   "version": "3.8.8"
  }
 },
 "nbformat": 4,
 "nbformat_minor": 5
}
